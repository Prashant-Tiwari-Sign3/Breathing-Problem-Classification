{
 "cells": [
  {
   "cell_type": "code",
   "execution_count": 2,
   "metadata": {},
   "outputs": [],
   "source": [
    "import cv2 as cv\n",
    "import matplotlib.pyplot as plt\n",
    "import torch\n",
    "import torchvision\n",
    "import os"
   ]
  },
  {
   "cell_type": "code",
   "execution_count": 6,
   "metadata": {},
   "outputs": [
    {
     "name": "stdout",
     "output_type": "stream",
     "text": [
      "16745_2_1.PNG\n",
      "16745_2_2.PNG\n",
      "16745_2_3.PNG\n",
      "16745_7_5.PNG\n",
      "4c8dee3d9fe81567b98ed1b0b2b4c6_jumbo.JPG\n",
      "covid-19-pneumonia-mild.JPG\n",
      "205 510 209\n"
     ]
    }
   ],
   "source": [
    "png_count = 0\n",
    "jpg_count = 0\n",
    "jpeg_count = 0\n",
    "\n",
    "# Loop through the files in the folder\n",
    "for filename in os.listdir(\"../Data/images\"):\n",
    "    if filename.endswith(\".png\"):\n",
    "        png_count += 1\n",
    "    elif filename.endswith((\".jpg\")):\n",
    "        jpg_count += 1\n",
    "    elif filename.endswith((\".jpeg\")):\n",
    "        jpeg_count += 1\n",
    "    else:\n",
    "        print(filename)\n",
    "\n",
    "print(png_count, jpg_count, jpeg_count)"
   ]
  }
 ],
 "metadata": {
  "kernelspec": {
   "display_name": ".venv",
   "language": "python",
   "name": "python3"
  },
  "language_info": {
   "codemirror_mode": {
    "name": "ipython",
    "version": 3
   },
   "file_extension": ".py",
   "mimetype": "text/x-python",
   "name": "python",
   "nbconvert_exporter": "python",
   "pygments_lexer": "ipython3",
   "version": "3.10.11"
  },
  "orig_nbformat": 4
 },
 "nbformat": 4,
 "nbformat_minor": 2
}
