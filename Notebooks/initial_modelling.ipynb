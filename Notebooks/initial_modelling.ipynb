{
 "cells": [
  {
   "cell_type": "code",
   "execution_count": 1,
   "metadata": {},
   "outputs": [],
   "source": [
    "from tqdm import tqdm\n",
    "import torch\n",
    "import numpy as np\n",
    "import seaborn as sns\n",
    "from torch.optim import Adam\n",
    "import matplotlib.pyplot as plt\n",
    "from torch import inference_mode\n",
    "from torch.nn import Linear, BCEWithLogitsLoss\n",
    "from torch.utils.data import random_split, DataLoader\n",
    "from torchvision.models.regnet import regnet_y_3_2gf, RegNet_Y_3_2GF_Weights\n",
    "\n",
    "import sys\n",
    "sys.path.append(\"../\")\n",
    "from utils import CustomDataset"
   ]
  },
  {
   "cell_type": "code",
   "execution_count": 2,
   "metadata": {},
   "outputs": [],
   "source": [
    "import warnings\n",
    "warnings.filterwarnings(\"ignore\")"
   ]
  },
  {
   "cell_type": "code",
   "execution_count": 3,
   "metadata": {},
   "outputs": [],
   "source": [
    "weights = RegNet_Y_3_2GF_Weights.IMAGENET1K_V2\n",
    "model = regnet_y_3_2gf(weights=weights)"
   ]
  },
  {
   "cell_type": "code",
   "execution_count": 4,
   "metadata": {},
   "outputs": [],
   "source": [
    "data = CustomDataset(\"../Data/processed_metadata.csv\", \"../Data/images\", \"filename\", ['Aspergillosis', 'Aspiration', 'Bacterial', 'COVID-19', 'Chlamydophila', 'E.Coli', 'Fungal', 'H1N1', 'Herpes ', 'Influenza', 'Klebsiella', 'Legionella', 'Lipoid', 'MERS-CoV', 'MRSA', 'Mycoplasma', 'No Finding', 'Nocardia', 'Pneumocystis', 'Pneumonia', 'SARS', 'Staphylococcus', 'Streptococcus', 'Tuberculosis', 'Unknown', 'Varicella', 'Viral', 'todo'])\n",
    "\n",
    "train_size = int(0.7 * len(data))\n",
    "val_size = int(0.1 * len(data))\n",
    "test_size = len(data) - train_size - val_size\n",
    "\n",
    "train_dataset, val_dataset, test_dataset = random_split(\n",
    "    data, [train_size, val_size, test_size]\n",
    ")"
   ]
  },
  {
   "cell_type": "code",
   "execution_count": 5,
   "metadata": {},
   "outputs": [
    {
     "data": {
      "text/plain": [
       "(650, 187, 92)"
      ]
     },
     "execution_count": 5,
     "metadata": {},
     "output_type": "execute_result"
    }
   ],
   "source": [
    "train_dataset.__len__(), test_dataset.__len__(), val_dataset.__len__()"
   ]
  },
  {
   "cell_type": "code",
   "execution_count": 6,
   "metadata": {},
   "outputs": [],
   "source": [
    "train_loader = DataLoader(train_dataset, 16, shuffle=True)\n",
    "test_loader = DataLoader(test_dataset, 16, shuffle=True)\n",
    "val_loader = DataLoader(val_dataset, 16, shuffle=True)"
   ]
  },
  {
   "cell_type": "code",
   "execution_count": 7,
   "metadata": {},
   "outputs": [],
   "source": [
    "num_classes = 28\n",
    "in_features = model.fc.in_features\n",
    "model.fc = Linear(in_features, num_classes)"
   ]
  },
  {
   "cell_type": "code",
   "execution_count": 8,
   "metadata": {},
   "outputs": [],
   "source": [
    "criterion = BCEWithLogitsLoss()\n",
    "optimizer = Adam(model.parameters(), lr=0.01)"
   ]
  },
  {
   "cell_type": "code",
   "execution_count": 16,
   "metadata": {},
   "outputs": [],
   "source": [
    "def TrainLoop(\n",
    "    model,\n",
    "    optimizer:torch.optim.Optimizer,\n",
    "    criterion:torch.nn.Module,\n",
    "    train_dataloader:torch.utils.data.DataLoader,\n",
    "    test_dataloader:torch.utils.data.DataLoader,\n",
    "    val_dataloader:torch.utils.data.DataLoader=None,\n",
    "    num_epochs:int=20,\n",
    "    early_stopping_rounds:int=5,\n",
    "    device:str='cpu'\n",
    "):\n",
    "    model.to(device)\n",
    "    best_val_loss = float('inf')\n",
    "    epochs_without_improvement = 0\n",
    "\n",
    "    total_train_loss = []\n",
    "    total_val_loss = []\n",
    "    total_test_loss = []\n",
    "\n",
    "    for epoch in tqdm(range(num_epochs)):\n",
    "        model.train()\n",
    "        print(\"Epoch {}\\n----------\".format(epoch))\n",
    "        train_loss = 0\n",
    "        for i, (batch, label) in enumerate(train_dataloader):\n",
    "            batch, label = batch.to(device), label.to(device)\n",
    "            optimizer.zero_grad()\n",
    "            outputs = model(batch)\n",
    "            loss = criterion(outputs, label.float())\n",
    "            train_loss += loss\n",
    "            loss.backward()\n",
    "            optimizer.step()\n",
    "            print(\"Loss for batch {} = {}\".format(i, loss))\n",
    "\n",
    "        print(\"\\nTraining Loss for epoch {} = {}\\n\".format(epoch, train_loss))\n",
    "        total_train_loss.append(train_loss)\n",
    "\n",
    "        if val_dataloader is not None:\n",
    "            model.eval()\n",
    "            validation_loss = 0\n",
    "            with inference_mode():\n",
    "                for batch, label in val_dataloader:\n",
    "                    batch, label = batch.to(device), label.to(device)\n",
    "                    outputs = model(batch)\n",
    "                    loss = criterion(outputs, label.float())\n",
    "                    validation_loss += loss\n",
    "\n",
    "                if validation_loss < best_val_loss:\n",
    "                    best_val_loss = validation_loss\n",
    "                    epochs_without_improvement = 0\n",
    "                else:\n",
    "                    epochs_without_improvement += 1\n",
    "\n",
    "                print(f\"Current Validation Loss = {validation_loss}\")\n",
    "                print(f\"Best Validation Loss = {best_val_loss}\")\n",
    "                print(f\"Epochs without Improvement = {epochs_without_improvement}\")\n",
    "\n",
    "            if epochs_without_improvement > early_stopping_rounds:\n",
    "                print(\"Early Stoppping Triggered\")\n",
    "                break\n",
    "            total_val_loss.append(validation_loss)\n",
    "\n",
    "        model.eval()\n",
    "        test_loss = 0\n",
    "        with inference_mode():\n",
    "            for batch, label in test_dataloader:\n",
    "                batch, label = batch.to(device), label.to(device)\n",
    "                outputs = model(batch)\n",
    "                loss = criterion(outputs, label.float())\n",
    "                test_loss += loss\n",
    "\n",
    "            print(\"\\nTest Loss for epoch {} = {}\".format(epoch, test_loss))\n",
    "        total_test_loss.append(test_loss)\n",
    "\n",
    "    x = np.arange(num_epochs)\n",
    "\n",
    "    total_train_loss = [item.cpu().detach().numpy() for item in total_train_loss]\n",
    "    total_test_loss = [item.cpu().detach().numpy() for item in total_test_loss]\n",
    "    total_val_loss = [item.cpu().detach().numpy() for item in total_val_loss]\n",
    "\n",
    "    total_train_loss = np.array(total_train_loss)\n",
    "    total_test_loss = np.array(total_test_loss)\n",
    "    total_val_loss = np.array(total_val_loss)\n",
    "\n",
    "    sns.lineplot(x=x, y=total_train_loss, label='Training Loss')\n",
    "    sns.lineplot(x=x, y=total_test_loss, label='Testing Loss')\n",
    "    sns.lineplot(x=x, y=total_val_loss, label='Validation Loss')\n",
    "    plt.xlabel(\"Epoch\")\n",
    "    plt.ylabel(\"Loss\")\n",
    "    plt.xticks(np.arange(num_epochs))\n",
    "    plt.show()"
   ]
  },
  {
   "cell_type": "code",
   "execution_count": 17,
   "metadata": {},
   "outputs": [
    {
     "name": "stderr",
     "output_type": "stream",
     "text": [
      "  0%|          | 0/2 [00:00<?, ?it/s]"
     ]
    },
    {
     "name": "stdout",
     "output_type": "stream",
     "text": [
      "Epoch 0\n",
      "----------\n",
      "Loss for batch 0 = 0.11183170229196548\n",
      "Loss for batch 1 = 0.08993189036846161\n",
      "Loss for batch 2 = 0.08040136098861694\n",
      "Loss for batch 3 = 0.11336643993854523\n",
      "Loss for batch 4 = 0.0781579315662384\n",
      "Loss for batch 5 = 0.10161498188972473\n",
      "Loss for batch 6 = 0.11274845153093338\n",
      "Loss for batch 7 = 0.08110902458429337\n",
      "Loss for batch 8 = 0.15285202860832214\n",
      "Loss for batch 9 = 0.15698273479938507\n",
      "Loss for batch 10 = 0.07358360290527344\n",
      "Loss for batch 11 = 0.1034596860408783\n",
      "Loss for batch 12 = 0.11266954243183136\n",
      "Loss for batch 13 = 0.117063008248806\n",
      "Loss for batch 14 = 0.06813296675682068\n",
      "Loss for batch 15 = 0.10952690988779068\n",
      "Loss for batch 16 = 0.10210137814283371\n",
      "Loss for batch 17 = 0.11046429723501205\n",
      "Loss for batch 18 = 0.14540186524391174\n",
      "Loss for batch 19 = 0.17224039137363434\n",
      "Loss for batch 20 = 0.17195656895637512\n",
      "Loss for batch 21 = 0.09562350809574127\n",
      "Loss for batch 22 = 0.1809607595205307\n",
      "Loss for batch 23 = 0.11593160033226013\n",
      "Loss for batch 24 = 0.11456090956926346\n",
      "Loss for batch 25 = 0.12970934808254242\n",
      "Loss for batch 26 = 0.10501087456941605\n",
      "Loss for batch 27 = 0.15891511738300323\n",
      "Loss for batch 28 = 0.09381483495235443\n",
      "Loss for batch 29 = 0.13489623367786407\n",
      "Loss for batch 30 = 0.08698617666959763\n",
      "Loss for batch 31 = 0.06293531507253647\n",
      "Loss for batch 32 = 0.10482340306043625\n",
      "Loss for batch 33 = 0.09473277628421783\n",
      "Loss for batch 34 = 0.09269880503416061\n",
      "Loss for batch 35 = 0.12336373329162598\n",
      "Loss for batch 36 = 0.13493028283119202\n",
      "Loss for batch 37 = 0.13028797507286072\n",
      "Loss for batch 38 = 0.10881123691797256\n",
      "Loss for batch 39 = 0.1616983860731125\n",
      "Loss for batch 40 = 0.06695957481861115\n",
      "\n",
      "Training Loss for epoch 0 = 4.663247585296631\n",
      "\n",
      "Current Validation Loss = 1.0808335542678833\n",
      "Best Validation Loss = 1.0808335542678833\n",
      "Epochs without Improvement = 0\n"
     ]
    },
    {
     "name": "stderr",
     "output_type": "stream",
     "text": [
      " 50%|█████     | 1/2 [01:08<01:08, 68.97s/it]"
     ]
    },
    {
     "name": "stdout",
     "output_type": "stream",
     "text": [
      "\n",
      "Test Loss for epoch 0 = 1.5907599925994873\n",
      "Epoch 1\n",
      "----------\n",
      "Loss for batch 0 = 0.11243212968111038\n",
      "Loss for batch 1 = 0.12190528959035873\n",
      "Loss for batch 2 = 0.10671792179346085\n",
      "Loss for batch 3 = 0.147940993309021\n",
      "Loss for batch 4 = 0.07489853352308273\n",
      "Loss for batch 5 = 0.0816974863409996\n",
      "Loss for batch 6 = 0.13539621233940125\n",
      "Loss for batch 7 = 0.11022158712148666\n",
      "Loss for batch 8 = 0.1315450668334961\n",
      "Loss for batch 9 = 0.07606887817382812\n",
      "Loss for batch 10 = 0.08033546805381775\n",
      "Loss for batch 11 = 0.12284907698631287\n",
      "Loss for batch 12 = 0.0908457338809967\n",
      "Loss for batch 13 = 0.10230600088834763\n",
      "Loss for batch 14 = 0.04396815225481987\n",
      "Loss for batch 15 = 0.14032188057899475\n",
      "Loss for batch 16 = 0.1177341639995575\n",
      "Loss for batch 17 = 0.14732800424098969\n",
      "Loss for batch 18 = 0.08596144616603851\n",
      "Loss for batch 19 = 0.10498157888650894\n",
      "Loss for batch 20 = 0.17764459550380707\n",
      "Loss for batch 21 = 0.08434794098138809\n",
      "Loss for batch 22 = 0.1370786428451538\n",
      "Loss for batch 23 = 0.11657710373401642\n",
      "Loss for batch 24 = 0.12070921808481216\n",
      "Loss for batch 25 = 0.11189308017492294\n",
      "Loss for batch 26 = 0.08803386986255646\n",
      "Loss for batch 27 = 0.09788133203983307\n",
      "Loss for batch 28 = 0.1392252892255783\n",
      "Loss for batch 29 = 0.10016991198062897\n",
      "Loss for batch 30 = 0.08256255090236664\n",
      "Loss for batch 31 = 0.14470210671424866\n",
      "Loss for batch 32 = 0.17283351719379425\n",
      "Loss for batch 33 = 0.09594596177339554\n",
      "Loss for batch 34 = 0.07220453023910522\n",
      "Loss for batch 35 = 0.14819346368312836\n",
      "Loss for batch 36 = 0.13354627788066864\n",
      "Loss for batch 37 = 0.12975537776947021\n",
      "Loss for batch 38 = 0.09034302085638046\n",
      "Loss for batch 39 = 0.1024969145655632\n",
      "Loss for batch 40 = 0.07611624896526337\n",
      "\n",
      "Training Loss for epoch 1 = 4.5577168464660645\n",
      "\n",
      "Current Validation Loss = 1.2371530532836914\n",
      "Best Validation Loss = 1.0808335542678833\n",
      "Epochs without Improvement = 1\n"
     ]
    },
    {
     "name": "stderr",
     "output_type": "stream",
     "text": [
      "100%|██████████| 2/2 [02:19<00:00, 69.94s/it]"
     ]
    },
    {
     "name": "stdout",
     "output_type": "stream",
     "text": [
      "\n",
      "Test Loss for epoch 1 = 1.3920133113861084\n"
     ]
    },
    {
     "name": "stderr",
     "output_type": "stream",
     "text": [
      "\n"
     ]
    },
    {
     "data": {
      "image/png": "[encoded data removed]",
      "text/plain": [
       "<Figure size 640x480 with 1 Axes>"
      ]
     },
     "metadata": {},
     "output_type": "display_data"
    }
   ],
   "source": [
    "TrainLoop(model, optimizer, criterion, train_loader, test_loader, val_loader, device='cuda', num_epochs=2, early_stopping_rounds=1)"
   ]
  },
  {
   "cell_type": "code",
   "execution_count": 18,
   "metadata": {},
   "outputs": [],
   "source": [
    "torch.cuda.empty_cache()"
   ]
  }
 ],
 "metadata": {
  "kernelspec": {
   "display_name": ".venv",
   "language": "python",
   "name": "python3"
  },
  "language_info": {
   "codemirror_mode": {
    "name": "ipython",
    "version": 3
   },
   "file_extension": ".py",
   "mimetype": "text/x-python",
   "name": "python",
   "nbconvert_exporter": "python",
   "pygments_lexer": "ipython3",
   "version": "3.10.11"
  },
  "orig_nbformat": 4
 },
 "nbformat": 4,
 "nbformat_minor": 2
}
