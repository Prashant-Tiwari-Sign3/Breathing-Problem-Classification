{
 "cells": [
  {
   "cell_type": "markdown",
   "metadata": {},
   "source": [
    "# Importing Libraries"
   ]
  },
  {
   "cell_type": "code",
   "execution_count": 1,
   "metadata": {},
   "outputs": [],
   "source": [
    "import numpy as np\n",
    "import seaborn as sns\n",
    "import matplotlib.pyplot as plt\n",
    "from torch.utils.data import DataLoader\n",
    "from torch.nn import Linear, Sequential, Dropout, ReLU\n",
    "from torch import load, inference_mode, round, sigmoid\n",
    "from sklearn.metrics import accuracy_score, multilabel_confusion_matrix, classification_report\n",
    "from torchvision.models.regnet import regnet_y_3_2gf, RegNet_Y_3_2GF_Weights\n",
    "from torchvision.models.swin_transformer import swin_v2_t, Swin_V2_T_Weights\n",
    "from torchvision.models.efficientnet import efficientnet_v2_s, EfficientNet_V2_S_Weights"
   ]
  },
  {
   "cell_type": "code",
   "execution_count": 2,
   "metadata": {},
   "outputs": [],
   "source": [
    "import warnings\n",
    "warnings.filterwarnings(\"ignore\")"
   ]
  },
  {
   "cell_type": "code",
   "execution_count": 3,
   "metadata": {},
   "outputs": [],
   "source": [
    "import sys\n",
    "sys.path.append(\"../\")\n",
    "from utils import CustomDataset, RegNet_transform, EfficientNet_transform, SwinV2_transform"
   ]
  },
  {
   "cell_type": "markdown",
   "metadata": {},
   "source": [
    "# Preparing Test Data"
   ]
  },
  {
   "cell_type": "code",
   "execution_count": 4,
   "metadata": {},
   "outputs": [],
   "source": [
    "test_data_regnet = CustomDataset(\"../Data/Processed/test_set.csv\", \"../Data/images\", \"filename\", ['Aspergillosis', 'Aspiration', 'Bacterial', 'COVID-19', 'Chlamydophila', 'E.Coli', 'Fungal', 'H1N1', 'Herpes ', 'Influenza', 'Klebsiella', 'Legionella', 'Lipoid', 'MERS-CoV', 'MRSA', 'Mycoplasma', 'No Finding', 'Nocardia', 'Pneumocystis', 'Pneumonia', 'SARS', 'Staphylococcus', 'Streptococcus', 'Tuberculosis', 'Unknown', 'Varicella', 'Viral', 'todo'], transform=RegNet_transform)\n",
    "test_data_efficientnet = CustomDataset(\"../Data/Processed/test_set.csv\", \"../Data/images\", \"filename\", ['Aspergillosis', 'Aspiration', 'Bacterial', 'COVID-19', 'Chlamydophila', 'E.Coli', 'Fungal', 'H1N1', 'Herpes ', 'Influenza', 'Klebsiella', 'Legionella', 'Lipoid', 'MERS-CoV', 'MRSA', 'Mycoplasma', 'No Finding', 'Nocardia', 'Pneumocystis', 'Pneumonia', 'SARS', 'Staphylococcus', 'Streptococcus', 'Tuberculosis', 'Unknown', 'Varicella', 'Viral', 'todo'], transform=EfficientNet_transform)\n",
    "test_data_swinv2 = CustomDataset(\"../Data/Processed/test_set.csv\", \"../Data/images\", \"filename\", ['Aspergillosis', 'Aspiration', 'Bacterial', 'COVID-19', 'Chlamydophila', 'E.Coli', 'Fungal', 'H1N1', 'Herpes ', 'Influenza', 'Klebsiella', 'Legionella', 'Lipoid', 'MERS-CoV', 'MRSA', 'Mycoplasma', 'No Finding', 'Nocardia', 'Pneumocystis', 'Pneumonia', 'SARS', 'Staphylococcus', 'Streptococcus', 'Tuberculosis', 'Unknown', 'Varicella', 'Viral', 'todo'], transform=SwinV2_transform)"
   ]
  },
  {
   "cell_type": "code",
   "execution_count": 5,
   "metadata": {},
   "outputs": [],
   "source": [
    "test_dataloader_regnet = DataLoader(test_data_regnet, 16, True)\n",
    "test_dataloader_efficientnet = DataLoader(test_data_efficientnet, 16, True)\n",
    "test_dataloader_swinv2 = DataLoader(test_data_swinv2, 16, True)"
   ]
  },
  {
   "cell_type": "markdown",
   "metadata": {},
   "source": [
    "# Preparing Models"
   ]
  },
  {
   "cell_type": "markdown",
   "metadata": {},
   "source": [
    "## RegNet"
   ]
  },
  {
   "cell_type": "code",
   "execution_count": 9,
   "metadata": {},
   "outputs": [
    {
     "data": {
      "text/plain": [
       "<All keys matched successfully>"
      ]
     },
     "execution_count": 9,
     "metadata": {},
     "output_type": "execute_result"
    }
   ],
   "source": [
    "regnet_model = regnet_y_3_2gf()\n",
    "regnet_model.fc = Linear(1512, 28)\n",
    "regnet_model.load_state_dict(load(\"../Models/FinetunedRegNet.pth\"))"
   ]
  },
  {
   "cell_type": "code",
   "execution_count": 15,
   "metadata": {},
   "outputs": [
    {
     "name": "stdout",
     "output_type": "stream",
     "text": [
      "Total Parameters: 17965702\n"
     ]
    }
   ],
   "source": [
    "total_params = sum(p.numel() for p in regnet_model.parameters())\n",
    "print(f\"Total Parameters: {total_params}\")"
   ]
  },
  {
   "cell_type": "markdown",
   "metadata": {},
   "source": [
    "## EfficientNet"
   ]
  },
  {
   "cell_type": "code",
   "execution_count": 6,
   "metadata": {},
   "outputs": [
    {
     "data": {
      "text/plain": [
       "<All keys matched successfully>"
      ]
     },
     "execution_count": 6,
     "metadata": {},
     "output_type": "execute_result"
    }
   ],
   "source": [
    "efficientnet_model = efficientnet_v2_s()\n",
    "efficientnet_model.classifier = Sequential(\n",
    "    Dropout(p=0.2),\n",
    "    ReLU(),\n",
    "    Linear(in_features=1280, out_features=28)\n",
    ")\n",
    "efficientnet_model.load_state_dict(load(\"../Models/FinetunedEfficientNet2.pth\"))"
   ]
  },
  {
   "cell_type": "code",
   "execution_count": 17,
   "metadata": {},
   "outputs": [
    {
     "name": "stdout",
     "output_type": "stream",
     "text": [
      "Total Parameters: 20213356\n"
     ]
    }
   ],
   "source": [
    "total_params = sum(p.numel() for p in efficientnet_model.parameters())\n",
    "print(f\"Total Parameters: {total_params}\")"
   ]
  },
  {
   "cell_type": "markdown",
   "metadata": {},
   "source": [
    "## SwinV2"
   ]
  },
  {
   "cell_type": "code",
   "execution_count": 18,
   "metadata": {},
   "outputs": [
    {
     "data": {
      "text/plain": [
       "<All keys matched successfully>"
      ]
     },
     "execution_count": 18,
     "metadata": {},
     "output_type": "execute_result"
    }
   ],
   "source": [
    "swinv2_model = swin_v2_t()\n",
    "swinv2_model.head = Linear(768, 28)\n",
    "swinv2_model.load_state_dict(load(\"../Models/FinetunedSwinV2.pth\"))"
   ]
  },
  {
   "cell_type": "code",
   "execution_count": 19,
   "metadata": {},
   "outputs": [
    {
     "name": "stdout",
     "output_type": "stream",
     "text": [
      "Total Parameters: 27604102\n"
     ]
    }
   ],
   "source": [
    "total_params = sum(p.numel() for p in swinv2_model.parameters())\n",
    "print(f\"Total Parameters: {total_params}\")"
   ]
  },
  {
   "cell_type": "markdown",
   "metadata": {},
   "source": [
    "# Testing Performance"
   ]
  },
  {
   "cell_type": "markdown",
   "metadata": {},
   "source": [
    "## Accuracy"
   ]
  },
  {
   "cell_type": "markdown",
   "metadata": {},
   "source": [
    "### RegNet"
   ]
  },
  {
   "cell_type": "code",
   "execution_count": 10,
   "metadata": {},
   "outputs": [
    {
     "name": "stdout",
     "output_type": "stream",
     "text": [
      "Accuracy: 51.08%\n"
     ]
    }
   ],
   "source": [
    "regnet_true_labels = []\n",
    "regnet_pred_labels = []\n",
    "regnet_model.eval()\n",
    "with inference_mode():\n",
    "    for batch, labels in test_dataloader_regnet:\n",
    "        outputs = regnet_model(batch)\n",
    "        preds = round(sigmoid(outputs))\n",
    "        regnet_true_labels.extend(labels.cpu().numpy())\n",
    "        regnet_pred_labels.extend(preds.cpu().numpy())\n",
    "\n",
    "regnet_true_labels = np.array(regnet_true_labels)\n",
    "regnet_pred_labels = np.array(regnet_pred_labels)\n",
    "\n",
    "regnet_accuracy = accuracy_score(regnet_true_labels, regnet_pred_labels)\n",
    "\n",
    "print(f'Accuracy: {regnet_accuracy * 100:.2f}%')"
   ]
  },
  {
   "cell_type": "markdown",
   "metadata": {},
   "source": [
    "### EfficientNet"
   ]
  },
  {
   "cell_type": "code",
   "execution_count": 7,
   "metadata": {},
   "outputs": [
    {
     "name": "stdout",
     "output_type": "stream",
     "text": [
      "Accuracy: 58.60%\n"
     ]
    }
   ],
   "source": [
    "efficientnet_true_labels = []\n",
    "efficientnet_pred_labels = []\n",
    "efficientnet_model.eval()\n",
    "with inference_mode():\n",
    "    for batch, labels in test_dataloader_efficientnet:\n",
    "        outputs = efficientnet_model(batch)\n",
    "        preds = round(sigmoid(outputs))\n",
    "        efficientnet_true_labels.extend(labels.cpu().numpy())\n",
    "        efficientnet_pred_labels.extend(preds.cpu().numpy())\n",
    "\n",
    "efficientnet_true_labels = np.array(efficientnet_true_labels)\n",
    "efficientnet_pred_labels = np.array(efficientnet_pred_labels)\n",
    "\n",
    "efficientnet_accuracy = accuracy_score(efficientnet_true_labels, efficientnet_pred_labels)\n",
    "\n",
    "print(f'Accuracy: {efficientnet_accuracy * 100:.2f}%')"
   ]
  },
  {
   "cell_type": "markdown",
   "metadata": {},
   "source": [
    "### Swinv2"
   ]
  },
  {
   "cell_type": "code",
   "execution_count": 22,
   "metadata": {},
   "outputs": [
    {
     "name": "stdout",
     "output_type": "stream",
     "text": [
      "Accuracy: 52.69%\n"
     ]
    }
   ],
   "source": [
    "swinv2_true_labels = []\n",
    "swinv2_pred_labels = []\n",
    "swinv2_model.eval()\n",
    "with inference_mode():\n",
    "    for batch, labels in test_dataloader_swinv2:\n",
    "        outputs = swinv2_model(batch)\n",
    "        preds = round(sigmoid(outputs))\n",
    "        swinv2_true_labels.extend(labels.cpu().numpy())\n",
    "        swinv2_pred_labels.extend(preds.cpu().numpy())\n",
    "\n",
    "swinv2_true_labels = np.array(swinv2_true_labels)\n",
    "swinv2_pred_labels = np.array(swinv2_pred_labels)\n",
    "\n",
    "swinv2_accuracy = accuracy_score(swinv2_true_labels, swinv2_pred_labels)\n",
    "\n",
    "print(f'Accuracy: {swinv2_accuracy * 100:.2f}%')"
   ]
  },
  {
   "cell_type": "markdown",
   "metadata": {},
   "source": [
    "## Confusion Matrix"
   ]
  },
  {
   "cell_type": "markdown",
   "metadata": {},
   "source": [
    "### RegNet"
   ]
  },
  {
   "cell_type": "code",
   "execution_count": 23,
   "metadata": {},
   "outputs": [
    {
     "name": "stdout",
     "output_type": "stream",
     "text": [
      "              precision    recall  f1-score   support\n",
      "\n",
      "           0       0.00      0.00      0.00         0\n",
      "           1       0.00      0.00      0.00         0\n",
      "           2       0.75      0.21      0.33        14\n",
      "           3       0.69      0.73      0.71        98\n",
      "           4       0.00      0.00      0.00         0\n",
      "           5       0.00      0.00      0.00         0\n",
      "           6       0.00      0.00      0.00        10\n",
      "           7       0.00      0.00      0.00         1\n",
      "           8       0.00      0.00      0.00         1\n",
      "           9       0.00      0.00      0.00         3\n",
      "          10       1.00      0.25      0.40         4\n",
      "          11       0.00      0.00      0.00         4\n",
      "          12       0.00      0.00      0.00         4\n",
      "          13       0.00      0.00      0.00         2\n",
      "          14       0.00      0.00      0.00         0\n",
      "          15       0.00      0.00      0.00         1\n",
      "          16       0.00      0.00      0.00         2\n",
      "          17       0.33      1.00      0.50         1\n",
      "          18       0.00      0.00      0.00        10\n",
      "          19       0.96      0.91      0.93       162\n",
      "          20       0.60      0.75      0.67         4\n",
      "          21       0.00      0.00      0.00         0\n",
      "          22       1.00      0.67      0.80         3\n",
      "          23       0.00      0.00      0.00         4\n",
      "          24       0.00      0.00      0.00         0\n",
      "          25       0.00      0.00      0.00         2\n",
      "          26       0.72      0.76      0.74       110\n",
      "          27       0.74      0.94      0.83        18\n",
      "\n",
      "   micro avg       0.78      0.72      0.75       458\n",
      "   macro avg       0.24      0.22      0.21       458\n",
      "weighted avg       0.74      0.72      0.72       458\n",
      " samples avg       0.76      0.74      0.72       458\n",
      "\n"
     ]
    }
   ],
   "source": [
    "regnet_cf = multilabel_confusion_matrix(regnet_true_labels, regnet_pred_labels)\n",
    "print(classification_report(regnet_true_labels, regnet_pred_labels))"
   ]
  },
  {
   "cell_type": "code",
   "execution_count": 8,
   "metadata": {},
   "outputs": [
    {
     "name": "stdout",
     "output_type": "stream",
     "text": [
      "              precision    recall  f1-score   support\n",
      "\n",
      "           0       0.00      0.00      0.00         0\n",
      "           1       0.00      0.00      0.00         0\n",
      "           2       0.40      0.14      0.21        14\n",
      "           3       0.70      0.85      0.77        98\n",
      "           4       0.00      0.00      0.00         0\n",
      "           5       0.00      0.00      0.00         0\n",
      "           6       0.00      0.00      0.00        10\n",
      "           7       0.00      0.00      0.00         1\n",
      "           8       0.00      0.00      0.00         1\n",
      "           9       0.00      0.00      0.00         3\n",
      "          10       0.00      0.00      0.00         4\n",
      "          11       0.00      0.00      0.00         4\n",
      "          12       0.00      0.00      0.00         4\n",
      "          13       0.00      0.00      0.00         2\n",
      "          14       0.00      0.00      0.00         0\n",
      "          15       0.00      0.00      0.00         1\n",
      "          16       0.00      0.00      0.00         2\n",
      "          17       0.00      0.00      0.00         1\n",
      "          18       0.00      0.00      0.00        10\n",
      "          19       0.92      0.99      0.96       162\n",
      "          20       0.75      0.75      0.75         4\n",
      "          21       0.00      0.00      0.00         0\n",
      "          22       0.67      0.67      0.67         3\n",
      "          23       0.00      0.00      0.00         4\n",
      "          24       0.00      0.00      0.00         0\n",
      "          25       0.00      0.00      0.00         2\n",
      "          26       0.76      0.89      0.82       110\n",
      "          27       0.92      0.61      0.73        18\n",
      "\n",
      "   micro avg       0.80      0.78      0.79       458\n",
      "   macro avg       0.18      0.17      0.18       458\n",
      "weighted avg       0.72      0.78      0.75       458\n",
      " samples avg       0.82      0.77      0.77       458\n",
      "\n"
     ]
    }
   ],
   "source": [
    "efficientnet_cf = multilabel_confusion_matrix(efficientnet_true_labels, efficientnet_pred_labels)\n",
    "print(classification_report(efficientnet_true_labels, efficientnet_pred_labels))"
   ]
  },
  {
   "cell_type": "code",
   "execution_count": 25,
   "metadata": {},
   "outputs": [
    {
     "name": "stdout",
     "output_type": "stream",
     "text": [
      "              precision    recall  f1-score   support\n",
      "\n",
      "           0       0.00      0.00      0.00         0\n",
      "           1       0.00      0.00      0.00         0\n",
      "           2       0.00      0.00      0.00        14\n",
      "           3       0.53      1.00      0.69        98\n",
      "           4       0.00      0.00      0.00         0\n",
      "           5       0.00      0.00      0.00         0\n",
      "           6       0.00      0.00      0.00        10\n",
      "           7       0.00      0.00      0.00         1\n",
      "           8       0.00      0.00      0.00         1\n",
      "           9       0.00      0.00      0.00         3\n",
      "          10       0.00      0.00      0.00         4\n",
      "          11       0.00      0.00      0.00         4\n",
      "          12       0.00      0.00      0.00         4\n",
      "          13       0.00      0.00      0.00         2\n",
      "          14       0.00      0.00      0.00         0\n",
      "          15       0.00      0.00      0.00         1\n",
      "          16       0.00      0.00      0.00         2\n",
      "          17       0.00      0.00      0.00         1\n",
      "          18       0.00      0.00      0.00        10\n",
      "          19       0.87      1.00      0.93       162\n",
      "          20       0.00      0.00      0.00         4\n",
      "          21       0.00      0.00      0.00         0\n",
      "          22       0.00      0.00      0.00         3\n",
      "          23       0.00      0.00      0.00         4\n",
      "          24       0.00      0.00      0.00         0\n",
      "          25       0.00      0.00      0.00         2\n",
      "          26       0.59      1.00      0.74       110\n",
      "          27       0.00      0.00      0.00        18\n",
      "\n",
      "   micro avg       0.66      0.81      0.73       458\n",
      "   macro avg       0.07      0.11      0.08       458\n",
      "weighted avg       0.56      0.81      0.66       458\n",
      " samples avg       0.66      0.75      0.69       458\n",
      "\n"
     ]
    }
   ],
   "source": [
    "swinv2_cf = multilabel_confusion_matrix(swinv2_true_labels, swinv2_pred_labels)\n",
    "print(classification_report(swinv2_true_labels, swinv2_pred_labels))"
   ]
  }
 ],
 "metadata": {
  "kernelspec": {
   "display_name": ".venv",
   "language": "python",
   "name": "python3"
  },
  "language_info": {
   "codemirror_mode": {
    "name": "ipython",
    "version": 3
   },
   "file_extension": ".py",
   "mimetype": "text/x-python",
   "name": "python",
   "nbconvert_exporter": "python",
   "pygments_lexer": "ipython3",
   "version": "3.10.11"
  },
  "orig_nbformat": 4
 },
 "nbformat": 4,
 "nbformat_minor": 2
}
